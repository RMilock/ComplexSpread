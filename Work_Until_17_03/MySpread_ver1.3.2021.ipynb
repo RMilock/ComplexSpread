{
  "nbformat": 4,
  "nbformat_minor": 0,
  "metadata": {
    "colab": {
      "name": "MySpread.ipynb",
      "provenance": [],
      "collapsed_sections": [],
      "authorship_tag": "ABX9TyPoaVSAq5ePbD2TII1jipF6",
      "include_colab_link": true
    },
    "kernelspec": {
      "display_name": "Python 3",
      "name": "python3"
    },
    "accelerator": "GPU"
  },
  "cells": [
    {
      "cell_type": "markdown",
      "metadata": {
        "id": "view-in-github",
        "colab_type": "text"
      },
      "source": [
        "<a href=\"https://colab.research.google.com/github/RMilock/ComplexSpread/blob/main/MySpread_ver1.3.2021.ipynb\" target=\"_parent\"><img src=\"https://colab.research.google.com/assets/colab-badge.svg\" alt=\"Open In Colab\"/></a>"
      ]
    },
    {
      "cell_type": "markdown",
      "metadata": {
        "id": "Jwpls0zyW-p9"
      },
      "source": [
        "Goals:\n",
        "* Create a regular squared graph and make the SIR dynamics evolve;\n",
        "* Add nodes as in the Erdoes-Rényi model + SIR dynamic;\n",
        "* Check at the S/N, I/N, R/N curves\n",
        "\n",
        "todo: find the epidemic threshold of the disease"
      ]
    },
    {
      "cell_type": "code",
      "metadata": {
        "id": "LbMcawKXW0uP"
      },
      "source": [
        "import random\n",
        "import networkx as nx\n",
        "#import networkx.generators.lattice as lattice\n",
        "import math\n",
        "import numpy as np\n",
        "import matplotlib.pyplot as plt\n",
        "%matplotlib inline\n",
        "\n",
        "from itertools import product"
      ],
      "execution_count": 27,
      "outputs": []
    },
    {
      "cell_type": "markdown",
      "metadata": {
        "id": "GUHCIL0WXrLL"
      },
      "source": [
        "# SIR on regular lattice"
      ]
    },
    {
      "cell_type": "markdown",
      "metadata": {
        "id": "F3yBLnR916rJ"
      },
      "source": [
        "## Create a \"small-world Poissonian Net\" as described in the article\n",
        "Note, that in the limit of $\\langle k \\rangle \\ll N$, the probability of self-loops and parallels edges in small with $N$.\n",
        "In fact, consider a graph with N nodes and to have for each node $k_i$ stubs, where $k_i$ is the $ith-$node degree. The probability to have a self-loop is basically $(k_i - 1) / N \\sim O(1/N)$  and similarly for parallel edges.\n",
        " [link](https://networkx.org/documentation/stable/reference/generated/networkx.generators.degree_seq.configuration_model.html)"
      ]
    },
    {
      "cell_type": "markdown",
      "metadata": {
        "id": "TfpA2gqFHvfF"
      },
      "source": [
        "\n",
        "      #look for adjacent nodes\n",
        "      #for adj_node in G[node]:\n",
        "          To find all edges add `node in G[adj_node] or`\n",
        "          Now, only find several edges from the first to the adjacent node, \n",
        "          e.g. G[1] --> {..., 0: {0: {}, 1: {}},...} means 2 edges from 1 to 0\n",
        "          #if node in G[adj_node] or len(G[node][adj_node]) > 1: \n",
        "          #    print(node, adj_node)"
      ]
    },
    {
      "cell_type": "code",
      "metadata": {
        "colab": {
          "base_uri": "https://localhost:8080/",
          "height": 650
        },
        "id": "ot_vbsII15L4",
        "outputId": "5c4066ee-af14-4bdd-c111-0b54a558faee"
      },
      "source": [
        "def nodes_adjac_degrees(G):\n",
        "  print(\"Degree sum\", np.sum([j for (i,j) in G.degree() ])  )\n",
        "  for node in G.nodes(): \n",
        "      print(node, G[node], G.degree(node))\n",
        "\n",
        "N = int(7); D = 2; p=0; seed=123; np.random.seed(seed)\n",
        "\n",
        "'''create a network with the node degrees drawn from a poissonian with even sum of degrees'''\n",
        "degrees = np.random.poisson(D,N) #for def of poissonian distr degrees are integers\n",
        "print(\"Degree sum:\", np.sum(degrees), \"with seed:\", seed)\n",
        "while(np.sum(degrees)%2!=0): #i.e. sum is odd --> change seed\n",
        "  seed=int(np.random.random_sample()*10)\n",
        "  np.random.seed(seed)\n",
        "  degrees = np.random.poisson(D,N)\n",
        "  print(\"Degree sum:\", np.sum(degrees), \"with seed:\", seed, )\n",
        "\n",
        "print(\"\\nNetwork Created but w/o neighbors wiring!\")\n",
        "G = nx.configuration_model(degrees)\n",
        "\n",
        "'''check graphical modification wrt the imposed degree'''\n",
        "repetita = [x for n, x in enumerate([y for y in G.edges()]) if x in [y for y in G.edges()][:n]]\n",
        "print(G.edges(), \"\\n\", len(repetita), repetita, \"\\n\", nodes_adjac_degrees(G))\n",
        "\n",
        "'''plot it togheter with the probability distribution'''\n",
        "fig, axs = plt.subplots(2,1, figsize=(5,5))\n",
        "nx.draw_circular(G, ax=axs[0], with_labels=True, font_size=12, node_size=5, width=.3)\n",
        "_ = axs[1].hist(degrees, bins=14, density=False, log=True)\n",
        "\n",
        "''' start of the PLAYGROUND CELL here only for convenience '''\n",
        "######PLAYGROUND CELL\n",
        "nodes_degree = {}\n",
        "for node in G.nodes():\n",
        "  nodes_degree[node] = G.degree(node)\n",
        "sorted_nodes_degree = {k: v for k, v in sorted(nodes_degree.items(), key=lambda item: item[1])}\n",
        "sorted_nodes = [node for node in sorted_nodes_degree.keys()]\n",
        "\n",
        "'''remove all edges but list all nodes to be used for wiring'''\n",
        "ebunch = [x for x in G.edges()]\n",
        "G.remove_edges_from(ebunch)\n",
        "l_nodes = [x for x in G.nodes()]\n",
        "\n",
        "print(sorted_nodes_degree); print(l_nodes); print(sorted_nodes);"
      ],
      "execution_count": 109,
      "outputs": [
        {
          "output_type": "stream",
          "text": [
            "Degree sum: 17 with seed: 123\n",
            "Degree sum: 13 with seed: 7\n",
            "Degree sum: 20 with seed: 6\n",
            "\n",
            "Network Created but w/o neighbors wiring!\n",
            "Degree sum 20\n",
            "0 {3: {0: {}, 1: {}}, 4: {0: {}}} 3\n",
            "1 {} 0\n",
            "2 {6: {0: {}, 1: {}}} 2\n",
            "3 {0: {0: {}, 1: {}}} 2\n",
            "4 {4: {0: {}}, 5: {0: {}}, 6: {0: {}}, 0: {0: {}}} 5\n",
            "5 {4: {0: {}}, 5: {0: {}}} 3\n",
            "6 {2: {0: {}, 1: {}}, 4: {0: {}}, 6: {0: {}}} 5\n",
            "[(0, 3), (0, 3), (0, 4), (2, 6), (2, 6), (4, 4), (4, 5), (4, 6), (5, 5), (6, 6)] \n",
            " 2 [(0, 3), (2, 6)] \n",
            " None\n",
            "{1: 0, 2: 2, 3: 2, 0: 3, 5: 3, 4: 5, 6: 5}\n",
            "[0, 1, 2, 3, 4, 5, 6]\n",
            "[1, 2, 3, 0, 5, 4, 6]\n"
          ],
          "name": "stdout"
        },
        {
          "output_type": "display_data",
          "data": {
            "image/png": "[encoded data removed]",
            "text/plain": [
              "<Figure size 360x360 with 2 Axes>"
            ]
          },
          "metadata": {
            "tags": []
          }
        }
      ]
    },
    {
      "cell_type": "markdown",
      "metadata": {
        "id": "3g2BMdvcf4HB"
      },
      "source": [
        "Sort nodes by ascending degree, connect to neighbors and cancel that node from the list of nodes to prevent future rewiring. Repeat this since \"error rises\"\n",
        "\n",
        "TO DO:\n",
        "* if len(l_nodes)==1: break\n",
        "* remove loops"
      ]
    },
    {
      "cell_type": "code",
      "metadata": {
        "colab": {
          "base_uri": "https://localhost:8080/",
          "height": 879
        },
        "id": "JzThtG72d33N",
        "outputId": "bd72c555-6b7e-48ed-b963-960bb9f5cff1"
      },
      "source": [
        "try:\n",
        "  edges = set() #avoid to put same link twice (+ unordered)\n",
        "  #print(nodes_adjac_degrees(G))\n",
        "  print(sorted_nodes, sorted_nodes_degree.values())\n",
        "\n",
        "  for node in sorted_nodes:\n",
        "    print(node, degrees[node], l_nodes)\n",
        "\n",
        "    '''create edges rewiring from ascending degree'''\n",
        "    for j in range(1,degrees[node]//2+1): #neighbors attachment and no self-loops \"1\"\n",
        "        print(\"entered for j:\",j)\n",
        "        idx = l_nodes.index(node)\n",
        "        print(\"idx:\", idx)\n",
        "        a_attached = l_nodes[(idx+j)%N] #anticlockwise-linked node\n",
        "        c_attached = l_nodes[idx-j]\n",
        "        print(node,a_attached); print(node,c_attached);\n",
        "        if node != a_attached and degrees[node]!=0: G.add_edge(node,a_attached); degrees[a_attached]-=1; \\\n",
        "        print(\"deg[%s] = %s\" % (a_attached, degrees[a_attached]))\n",
        "\n",
        "        if node != c_attached and degrees[node]!=0: G.add_edge(node,c_attached); degrees[c_attached]-=1; \\\n",
        "        print(\"deg[%s] = %s\"%(c_attached,degrees[c_attached]))\n",
        "    \n",
        "    '''degrees[i] is odd, then, +1 anticlock-wise'''\n",
        "    if degrees[node]%2 != 0: aa_attached = l_nodes[(idx-degrees[node]//2+1)%N]; \\\n",
        "                            G.add_edge(node, aa_attached); degrees[aa_attached]-=1; print(node, aa_attached); print(\"deg[%s] = %s\"%(aa_attached,degrees[aa_attached]))\n",
        "    l_nodes.remove(node)\n",
        "\n",
        "except:\n",
        "  G.remove_edges_from(nx.selfloop_edges(G))\n",
        "   "
      ],
      "execution_count": 110,
      "outputs": [
        {
          "output_type": "stream",
          "text": [
            "[1, 2, 3, 0, 5, 4, 6] dict_values([0, 2, 2, 3, 3, 5, 5])\n",
            "1 0 [0, 1, 2, 3, 4, 5, 6]\n",
            "2 2 [0, 2, 3, 4, 5, 6]\n",
            "entered for j: 1\n",
            "idx: 1\n",
            "2 3\n",
            "2 0\n",
            "deg[3] = 1\n",
            "deg[0] = 2\n",
            "3 1 [0, 3, 4, 5, 6]\n",
            "3 4\n",
            "deg[4] = 4\n",
            "0 2 [0, 4, 5, 6]\n",
            "entered for j: 1\n",
            "idx: 0\n",
            "0 4\n",
            "0 6\n",
            "deg[4] = 3\n",
            "deg[6] = 4\n",
            "5 3 [4, 5, 6]\n",
            "entered for j: 1\n",
            "idx: 1\n",
            "5 6\n",
            "5 4\n",
            "deg[6] = 3\n",
            "deg[4] = 2\n",
            "5 5\n",
            "deg[5] = 2\n",
            "4 2 [4, 6]\n",
            "entered for j: 1\n",
            "idx: 0\n",
            "4 6\n",
            "4 6\n",
            "deg[6] = 2\n",
            "deg[6] = 1\n",
            "6 1 [6]\n"
          ],
          "name": "stdout"
        },
        {
          "output_type": "error",
          "ename": "IndexError",
          "evalue": "ignored",
          "traceback": [
            "\u001b[0;31m---------------------------------------------------------------------------\u001b[0m",
            "\u001b[0;31mIndexError\u001b[0m                                Traceback (most recent call last)",
            "\u001b[0;32m<ipython-input-110-f97205d5dbb8>\u001b[0m in \u001b[0;36m<module>\u001b[0;34m()\u001b[0m\n\u001b[1;32m     19\u001b[0m \u001b[0;34m\u001b[0m\u001b[0m\n\u001b[1;32m     20\u001b[0m   \u001b[0;34m'''degrees[i] is odd, then, +1 anticlock-wise'''\u001b[0m\u001b[0;34m\u001b[0m\u001b[0;34m\u001b[0m\u001b[0m\n\u001b[0;32m---> 21\u001b[0;31m   \u001b[0;32mif\u001b[0m \u001b[0mdegrees\u001b[0m\u001b[0;34m[\u001b[0m\u001b[0mnode\u001b[0m\u001b[0;34m]\u001b[0m\u001b[0;34m%\u001b[0m\u001b[0;36m2\u001b[0m \u001b[0;34m!=\u001b[0m \u001b[0;36m0\u001b[0m\u001b[0;34m:\u001b[0m \u001b[0maa_attached\u001b[0m \u001b[0;34m=\u001b[0m \u001b[0ml_nodes\u001b[0m\u001b[0;34m[\u001b[0m\u001b[0;34m(\u001b[0m\u001b[0midx\u001b[0m\u001b[0;34m-\u001b[0m\u001b[0mdegrees\u001b[0m\u001b[0;34m[\u001b[0m\u001b[0mnode\u001b[0m\u001b[0;34m]\u001b[0m\u001b[0;34m//\u001b[0m\u001b[0;36m2\u001b[0m\u001b[0;34m+\u001b[0m\u001b[0;36m1\u001b[0m\u001b[0;34m)\u001b[0m\u001b[0;34m%\u001b[0m\u001b[0mN\u001b[0m\u001b[0;34m]\u001b[0m\u001b[0;34m;\u001b[0m                            \u001b[0mG\u001b[0m\u001b[0;34m.\u001b[0m\u001b[0madd_edge\u001b[0m\u001b[0;34m(\u001b[0m\u001b[0mnode\u001b[0m\u001b[0;34m,\u001b[0m \u001b[0maa_attached\u001b[0m\u001b[0;34m)\u001b[0m\u001b[0;34m;\u001b[0m \u001b[0mdegrees\u001b[0m\u001b[0;34m[\u001b[0m\u001b[0maa_attached\u001b[0m\u001b[0;34m]\u001b[0m\u001b[0;34m-=\u001b[0m\u001b[0;36m1\u001b[0m\u001b[0;34m;\u001b[0m \u001b[0mprint\u001b[0m\u001b[0;34m(\u001b[0m\u001b[0mnode\u001b[0m\u001b[0;34m,\u001b[0m \u001b[0maa_attached\u001b[0m\u001b[0;34m)\u001b[0m\u001b[0;34m;\u001b[0m \u001b[0mprint\u001b[0m\u001b[0;34m(\u001b[0m\u001b[0;34m\"deg[%s] = %s\"\u001b[0m\u001b[0;34m%\u001b[0m\u001b[0;34m(\u001b[0m\u001b[0maa_attached\u001b[0m\u001b[0;34m,\u001b[0m\u001b[0mdegrees\u001b[0m\u001b[0;34m[\u001b[0m\u001b[0maa_attached\u001b[0m\u001b[0;34m]\u001b[0m\u001b[0;34m)\u001b[0m\u001b[0;34m)\u001b[0m\u001b[0;34m\u001b[0m\u001b[0;34m\u001b[0m\u001b[0m\n\u001b[0m\u001b[1;32m     22\u001b[0m   \u001b[0ml_nodes\u001b[0m\u001b[0;34m.\u001b[0m\u001b[0mremove\u001b[0m\u001b[0;34m(\u001b[0m\u001b[0mnode\u001b[0m\u001b[0;34m)\u001b[0m\u001b[0;34m\u001b[0m\u001b[0;34m\u001b[0m\u001b[0m\n\u001b[1;32m     23\u001b[0m   \u001b[0;31m#if len(edges)!=np.sum(degrees)/2: break\u001b[0m\u001b[0;34m\u001b[0m\u001b[0;34m\u001b[0m\u001b[0;34m\u001b[0m\u001b[0m\n",
            "\u001b[0;31mIndexError\u001b[0m: list index out of range"
          ]
        }
      ]
    },
    {
      "cell_type": "code",
      "metadata": {
        "colab": {
          "base_uri": "https://localhost:8080/",
          "height": 237
        },
        "id": "zHjY4lsPaSwn",
        "outputId": "e33c993c-e239-405f-d729-9b509068ed12"
      },
      "source": [
        "######PLAYGROUND CELL\n",
        "nodes_degree = {}\n",
        "for node in G.nodes():\n",
        "  nodes_degree[node] = G.degree(node)\n",
        "print(nodes_degree, {k: v for k, v in sorted(nodes_degree.items(), key=lambda item: item[1])})\n",
        "\n",
        "ebunch = [x for x in G.edges()]\n",
        "G.remove_edges_from(ebunch)\n",
        "l_nodes = [x for x in G.nodes()]\n",
        "\n",
        "edges = set() #avoid to put same link twice (+ unordered)\n",
        "print(nodes_adjac_degrees(G))\n",
        "print(degrees)\n",
        "for i in range(N):\n",
        "    for j in range(1,degrees[i]//2+1): #neighbors attachment and no self-loops \"1\"\n",
        "        if i != l_nodes[(i+j)%N]: G.add_edge(i,l_nodes[(i+j)%N]); print(i,l_nodes[(i+j)%N])\n",
        "        if i != l_nodes[i-j]:  G.add_edge(i,l_nodes[i-j]); print(i,l_nodes[i-j])\n",
        "    \n",
        "    '''degrees[i] is odd, then, +1 anticlock-wise'''\n",
        "    if degrees[i]%2 != 0: G.add_edge(i,l_nodes[i-(degrees[i]//2)-1])\n",
        "    print(i, G.degree(i))\n",
        "    #if len(edges)!=np.sum(degrees)/2: break\n",
        "\n",
        "\n",
        "#for i,j in product(range(N), repeat=2):\n",
        "#  if i != j and random.random() <= p: # with this meth we have 2p of chance of edging. So, the mean=n*2p\n",
        "#    edges.add((i,j))\n",
        "\n",
        "#G.add_edges_from(edges)\n",
        "repetita = [x for n, x in enumerate([y for y in G.edges()]) if x in [y for y in G.edges()][:n]]\n",
        "print(G.edges(), \"\\n\", len(repetita), repetita, \"\\n\", nodes_adjac_degrees(G))\n",
        "\n",
        "'''plot it togheter with the probability distribution'''\n",
        "fig, axs = plt.subplots(2,1, figsize=(5,5))\n",
        "nx.draw_circular(G, ax=axs[0], with_labels=True, font_size=12, node_size=5, width=.3)\n",
        "_ = axs[1].hist(degrees, 14, density=False, log=True)"
      ],
      "execution_count": 53,
      "outputs": [
        {
          "output_type": "error",
          "ename": "NameError",
          "evalue": "ignored",
          "traceback": [
            "\u001b[0;31m---------------------------------------------------------------------------\u001b[0m",
            "\u001b[0;31mNameError\u001b[0m                                 Traceback (most recent call last)",
            "\u001b[0;32m<ipython-input-53-d550ac59511c>\u001b[0m in \u001b[0;36m<module>\u001b[0;34m()\u001b[0m\n\u001b[1;32m      3\u001b[0m \u001b[0;32mfor\u001b[0m \u001b[0mnode\u001b[0m \u001b[0;32min\u001b[0m \u001b[0mG\u001b[0m\u001b[0;34m.\u001b[0m\u001b[0mnodes\u001b[0m\u001b[0;34m(\u001b[0m\u001b[0;34m)\u001b[0m\u001b[0;34m:\u001b[0m\u001b[0;34m\u001b[0m\u001b[0;34m\u001b[0m\u001b[0m\n\u001b[1;32m      4\u001b[0m   \u001b[0mnodes_degree\u001b[0m\u001b[0;34m[\u001b[0m\u001b[0mnode\u001b[0m\u001b[0;34m]\u001b[0m \u001b[0;34m=\u001b[0m \u001b[0mG\u001b[0m\u001b[0;34m.\u001b[0m\u001b[0mdegree\u001b[0m\u001b[0;34m(\u001b[0m\u001b[0mnode\u001b[0m\u001b[0;34m)\u001b[0m\u001b[0;34m\u001b[0m\u001b[0;34m\u001b[0m\u001b[0m\n\u001b[0;32m----> 5\u001b[0;31m \u001b[0mprint\u001b[0m\u001b[0;34m(\u001b[0m\u001b[0mnodes_degree\u001b[0m\u001b[0;34m,\u001b[0m \u001b[0;34m{\u001b[0m\u001b[0mk\u001b[0m\u001b[0;34m:\u001b[0m \u001b[0mv\u001b[0m \u001b[0;32mfor\u001b[0m \u001b[0mk\u001b[0m\u001b[0;34m,\u001b[0m \u001b[0mv\u001b[0m \u001b[0;32min\u001b[0m \u001b[0msorted\u001b[0m\u001b[0;34m(\u001b[0m\u001b[0mnode_degree\u001b[0m\u001b[0;34m.\u001b[0m\u001b[0mitems\u001b[0m\u001b[0;34m(\u001b[0m\u001b[0;34m)\u001b[0m\u001b[0;34m,\u001b[0m \u001b[0mkey\u001b[0m\u001b[0;34m=\u001b[0m\u001b[0;32mlambda\u001b[0m \u001b[0mitem\u001b[0m\u001b[0;34m:\u001b[0m \u001b[0mitem\u001b[0m\u001b[0;34m[\u001b[0m\u001b[0;36m1\u001b[0m\u001b[0;34m]\u001b[0m\u001b[0;34m)\u001b[0m\u001b[0;34m}\u001b[0m\u001b[0;34m)\u001b[0m\u001b[0;34m\u001b[0m\u001b[0;34m\u001b[0m\u001b[0m\n\u001b[0m\u001b[1;32m      6\u001b[0m \u001b[0;34m\u001b[0m\u001b[0m\n\u001b[1;32m      7\u001b[0m \u001b[0mebunch\u001b[0m \u001b[0;34m=\u001b[0m \u001b[0;34m[\u001b[0m\u001b[0mx\u001b[0m \u001b[0;32mfor\u001b[0m \u001b[0mx\u001b[0m \u001b[0;32min\u001b[0m \u001b[0mG\u001b[0m\u001b[0;34m.\u001b[0m\u001b[0medges\u001b[0m\u001b[0;34m(\u001b[0m\u001b[0;34m)\u001b[0m\u001b[0;34m]\u001b[0m\u001b[0;34m\u001b[0m\u001b[0;34m\u001b[0m\u001b[0m\n",
            "\u001b[0;31mNameError\u001b[0m: name 'node_degree' is not defined"
          ]
        }
      ]
    },
    {
      "cell_type": "code",
      "metadata": {
        "id": "0RJMlDV2cF1Z"
      },
      "source": [
        "#### OLD ONE\n",
        "\n",
        "\n",
        "ebunch = [x for x in G.edges()]\n",
        "G.remove_edges_from(ebunch)\n",
        "l_nodes = [x for x in G.nodes()]\n",
        "\n",
        "edges = set() #avoid to put same link twice (+ unordered)\n",
        "print(nodes_adjac_degrees(G))\n",
        "\n",
        "for i in range(N):\n",
        "    for j in range(1,degrees[i]//2+1): #neighbors attachment and no self-loops \"1\"\n",
        "        if i != l_nodes[(i+j)%N]: edges.add((i,l_nodes[(i+j)%N]))\n",
        "        if i != l_nodes[i-j]:  edges.add((i,l_nodes[i-j]))\n",
        "    \n",
        "    '''degrees[i] is odd, then, +1 anticlock-wise'''\n",
        "    if degrees[i]%2 != 0: edges.add((i,l_nodes[i-(degrees[i]//2)-1]))\n",
        "    print(G.degree)\n",
        "    #if len(edges)!=np.sum(degrees)/2: break\n",
        "\n",
        "\n",
        "#for i,j in product(range(N), repeat=2):\n",
        "#  if i != j and random.random() <= p: # with this meth we have 2p of chance of edging. So, the mean=n*2p\n",
        "#    edges.add((i,j))\n",
        "\n",
        "G.add_edges_from(edges)\n",
        "repetita = [x for n, x in enumerate([y for y in G.edges()]) if x in [y for y in G.edges()][:n]]\n",
        "print(G.edges(), \"\\n\", len(repetita), repetita, \"\\n\", nodes_adjac_degrees(G))\n",
        "\n",
        "'''plot it togheter with the probability distribution'''\n",
        "fig, axs = plt.subplots(2,1, figsize=(5,5))\n",
        "nx.draw_circular(G, ax=axs[0], with_labels=True, font_size=12, node_size=5, width=.3)\n",
        "_ = axs[1].hist(degrees, 14, density=False, log=True)"
      ],
      "execution_count": null,
      "outputs": []
    },
    {
      "cell_type": "markdown",
      "metadata": {
        "id": "THiUmrVxka5q"
      },
      "source": [
        "1) `for j in range(1,degrees[i]//2+1): #neighbors attachment and no self-loops\n",
        "      if i != l_nodes[(i+j)%N]: edges.add((i,l_nodes[(i+j)%N]))\n",
        "      if i != l_nodes[i-j]:  edges.add((i,l_nodes[i-j]))`\n",
        "\n",
        "with this part i'm rewiring twice the neighbors. It's possible to think to a solution where if already an edge exists may be skipped;\n",
        "\n",
        "2) Consider the Newman algorithm, where new edge are added when the rewiring is at work. In WS-model the edge are actively changed and not added;\n",
        "\n",
        "3)TODO: create a net s.t. that all links will be present twice, i.e. (0,1) and (1,0)"
      ]
    },
    {
      "cell_type": "markdown",
      "metadata": {
        "id": "ItuxX6R0irHI"
      },
      "source": [
        "## Create a squared lattice"
      ]
    },
    {
      "cell_type": "code",
      "metadata": {
        "id": "dRNrorNMiEfE"
      },
      "source": [
        "fig, axs = plt.subplots(1,2, figsize=(20,10))\n",
        "\n",
        "\n",
        "def rgraph(N,p):\n",
        "    G = nx.Graph()\n",
        "\n",
        "    'Center the initial squared lattice'\n",
        "    pos = {0:(0,0),1:(1,0),2:(1,1),3:(0,1)}#dict with two of the positions set\n",
        "    for i in range(4,N): pos[i]=(random.random()+(-1)**random.randint(0,1), random.random()+(-1)**random.randint(0,1) )\n",
        "\n",
        "    'Add nodes to graph and \"double\"-edging'\n",
        "    G.add_nodes_from(pos.keys())\n",
        "    for n, coord in pos.items():\n",
        "      G.nodes[n]['pos'] = coord\n",
        "    edges = set() #avoid to put same link twice (unordered). (0,1) and (1,0) are allowed\n",
        "    for i,j in product(range(4), repeat=2):\n",
        "      if j==(i+1)%4 or j==(i-1)%4: edges.add((i,j))\n",
        "    for i,j in product(range(N), repeat=2):\n",
        "      if i != j and random.random() <= p: # since i,j \"run freely\", we have 2p of chance of edging. So, the mean=n*2p\n",
        "        edges.add((i,j))\n",
        "\n",
        "    'Remove the cross edges within the square'\n",
        "    disclist=[(0,2),(2,0),(1,3),(3,1)]\n",
        "    for x in disclist: edges.discard(x)\n",
        "    G.add_edges_from(edges)\n",
        "    print(G.edges())\n",
        "\n",
        "    return G,pos\n",
        "\n",
        "G,pos=rgraph(8,0.1)\n",
        "\n",
        "nx.draw(G, ax=axs[0], pos=pos, with_labels=True, font_size=12, node_size=5, width=.3)\n",
        "\n",
        "\n",
        "def plot_degree_dist(G):\n",
        "    degrees = [G.degree(n) for n in G.nodes()]\n",
        "    axs[1].hist(degrees, bins=\"auto\", log=False, density=0)\n",
        "plot_degree_dist(G)"
      ],
      "execution_count": null,
      "outputs": []
    },
    {
      "cell_type": "markdown",
      "metadata": {
        "id": "vFEyF6ZTijen"
      },
      "source": [
        "## Make the disease spread"
      ]
    },
    {
      "cell_type": "code",
      "metadata": {
        "id": "RdseIkrOeUj-"
      },
      "source": [
        "def sir(G,beta,mu):\n",
        "    'Number of nodes in the graph'\n",
        "    N=G.number_of_nodes()\n",
        "    \n",
        "    'Label the individual wrt to the # of the node'\n",
        "    node_labels = G.nodes()\n",
        "    \n",
        "    'Currently infected individuals and the future infected and recovered' \n",
        "    inf_list = [] \n",
        "    prevalence = []\n",
        "    recovered = []\n",
        "\n",
        "    'Initial Conditions'\n",
        "    current_state = ['S' for i in node_labels] \n",
        "    future_state = ['S' for i in node_labels]\n",
        "    \n",
        "    'Selects the seed of the disease'\n",
        "    seed = random.choice(range(N)) \n",
        "    current_state[seed] = 'I'\n",
        "    future_state[seed] = 'I'\n",
        "    inf_list.append(seed)    \n",
        "   \n",
        "\n",
        "    while(len(inf_list)>0):        \n",
        "        \n",
        "        'Infection Phase: each infected tries to infect all of the neighbors'\n",
        "        for i in inf_list:\n",
        "            'Select the neighbors of the infected node'\n",
        "            tests = G.neighbors(i) #only != wrt to the SIS: contact are taken from G.neighbors            \n",
        "            for j in tests:\n",
        "                'If the contact is susceptible tries to infect it'\n",
        "                if current_state[j] == 'S' and future_state[j] == 'S':\n",
        "                    if random.random() < beta:\n",
        "                        future_state[j] = 'I'\n",
        "                    else:\n",
        "                        future_state[j] = 'S'\n",
        "                        \n",
        "        'Recovery Phase: each infected in the current state recovers with probability mu'        \n",
        "        for i in inf_list:\n",
        "            if random.random() < mu:\n",
        "                future_state[i] = 'R'\n",
        "            else:\n",
        "                future_state[i] = 'I'\n",
        "        \n",
        "        'Time update: once infections and recovery ended, we move to the next time-step'\n",
        "        'The future state becomes the current one'\n",
        "        current_state = future_state.copy() #w/o .copy() it's a mofiable-\"view\"\n",
        "       \n",
        "        'Updates inf_list with the currently fraction of inf/rec' \n",
        "        inf_list = [i for i, x in enumerate(current_state) if x == 'I']\n",
        "        rec_list = [i for i, x in enumerate(current_state) if x == 'R']\n",
        "\n",
        "        \n",
        "        'Saves the fraction of infected and recovered in the current time-step'\n",
        "        prevalence.append(len(inf_list)/float(N))\n",
        "        recovered.append(len(rec_list)/float(N))\n",
        "\n",
        "        \n",
        "    return prevalence, recovered"
      ],
      "execution_count": null,
      "outputs": []
    },
    {
      "cell_type": "code",
      "metadata": {
        "id": "Ztv6OM7Ni1MA"
      },
      "source": [
        "plt.figure(figsize=(10,5))\n",
        "\n",
        "beta = 0.04 # infection probability\n",
        "mu = 0.05 # recovery probability\n",
        "\n",
        "# simulate SIR dynamics and obtain prevalence\n",
        "prevalence, recovered = sir(G, beta, mu)\n",
        "\n",
        "plt.plot(prevalence, label=\"Infected/N\")\n",
        "plt.plot(recovered, label=\"Recovered/N\")\n",
        "\n",
        "plt.xlabel('Time', fontsize = 16)\n",
        "plt.ylabel('Indivs/N', fontsize = 16)\n",
        "plt.legend(loc=\"best\");"
      ],
      "execution_count": null,
      "outputs": []
    },
    {
      "cell_type": "code",
      "metadata": {
        "id": "hlhGpwXvPHHo"
      },
      "source": [
        "#todo:\n",
        "L=len(prevalence)\n",
        "\n",
        "def mov_avg(a):\n",
        "    p=[a[0]]\n",
        "    for i in range(1,L): \n",
        "      if i <=7:  tmp=a[i-1]+(a[i]-a[i-1])/i; p.append(tmp); print(p[i],i)\n",
        "      elif i>7: tmp=1/7*(a[i]+7*p[i-1]-a[i-1]); p.append(tmp)\n",
        "    return p\n",
        "\n",
        "plt.plot(mov_avg(prevalence), label=\"Mov_Avg_Inf/N\")"
      ],
      "execution_count": null,
      "outputs": []
    }
  ]
}