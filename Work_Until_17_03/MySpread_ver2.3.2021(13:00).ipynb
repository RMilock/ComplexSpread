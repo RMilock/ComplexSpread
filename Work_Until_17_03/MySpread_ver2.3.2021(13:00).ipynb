{
  "nbformat": 4,
  "nbformat_minor": 0,
  "metadata": {
    "colab": {
      "name": "MySpread.ipynb",
      "provenance": [],
      "collapsed_sections": [],
      "authorship_tag": "ABX9TyN8hFGDFpwLmulOLs8EHoEA",
      "include_colab_link": true
    },
    "kernelspec": {
      "display_name": "Python 3",
      "name": "python3"
    },
    "accelerator": "GPU"
  },
  "cells": [
    {
      "cell_type": "markdown",
      "metadata": {
        "id": "view-in-github",
        "colab_type": "text"
      },
      "source": [
        "<a href=\"https://colab.research.google.com/github/RMilock/ComplexSpread/blob/main/MySpread_ver2.3.2021(13%3A00).ipynb\" target=\"_parent\"><img src=\"https://colab.research.google.com/assets/colab-badge.svg\" alt=\"Open In Colab\"/></a>"
      ]
    },
    {
      "cell_type": "markdown",
      "metadata": {
        "id": "Jwpls0zyW-p9"
      },
      "source": [
        "Goals:\n",
        "* Create a regular squared graph and make the SIR dynamics evolve;\n",
        "* Add nodes as in the Erdoes-Rényi model + SIR dynamic;\n",
        "* Check at the S/N, I/N, R/N curves\n",
        "\n",
        "todo: find the epidemic threshold of the disease"
      ]
    },
    {
      "cell_type": "code",
      "metadata": {
        "id": "LbMcawKXW0uP"
      },
      "source": [
        "import random\n",
        "import networkx as nx\n",
        "#import networkx.generators.lattice as lattice\n",
        "import math\n",
        "import numpy as np\n",
        "import matplotlib.pyplot as plt\n",
        "%matplotlib inline\n",
        "\n",
        "from itertools import product"
      ],
      "execution_count": 119,
      "outputs": []
    },
    {
      "cell_type": "markdown",
      "metadata": {
        "id": "GUHCIL0WXrLL"
      },
      "source": [
        "# SIR on regular lattice"
      ]
    },
    {
      "cell_type": "markdown",
      "metadata": {
        "id": "F3yBLnR916rJ"
      },
      "source": [
        "## Create a \"small-world Poissonian Net\" as described in the article\n",
        "Note, that in the limit of $\\langle k \\rangle \\ll N$, the probability of self-loops and parallels edges in small with $N$.\n",
        "In fact, consider a graph with N nodes and to have for each node $k_i$ stubs, where $k_i$ is the $ith-$node degree. The probability to have a self-loop is basically $(k_i - 1) / N \\sim O(1/N)$  and similarly for parallel edges.\n",
        " [link](https://networkx.org/documentation/stable/reference/generated/networkx.generators.degree_seq.configuration_model.html)"
      ]
    },
    {
      "cell_type": "markdown",
      "metadata": {
        "id": "TfpA2gqFHvfF"
      },
      "source": [
        "\n",
        "      #look for adjacent nodes\n",
        "      #for adj_node in G[node]:\n",
        "          To find all edges add `node in G[adj_node] or`\n",
        "          Now, only find several edges from the first to the adjacent node, \n",
        "          e.g. G[1] --> {..., 0: {0: {}, 1: {}},...} means 2 edges from 1 to 0\n",
        "          #if node in G[adj_node] or len(G[node][adj_node]) > 1: \n",
        "          #    print(node, adj_node)"
      ]
    },
    {
      "cell_type": "markdown",
      "metadata": {
        "id": "p9yL0arnqcxW"
      },
      "source": [
        "## Net with poissonian distributed degrees + start of NNR"
      ]
    },
    {
      "cell_type": "code",
      "metadata": {
        "colab": {
          "base_uri": "https://localhost:8080/",
          "height": 702
        },
        "id": "ot_vbsII15L4",
        "outputId": "895198e9-4ebd-4afb-a780-cd75cde8769e"
      },
      "source": [
        "def nodes_adjac_degrees(G):\n",
        "  print(\"Sum_i k_i: \", np.sum([j for (i,j) in G.degree() ]), \\\n",
        "        \" and <k>: \", np.sum([j for (i,j) in G.degree() ]) / len(G.nodes()), end=\"\\n\\n\" )\n",
        "  inner_sorted_nodes = sorted( zip([x for x in G.nodes()], \\\n",
        "            [G[x] for x in G.nodes()], \\\n",
        "            [G.degree(x) for x in G.nodes()] ), key=lambda x: x[2])\n",
        "  for i in range(len(G.nodes())):\n",
        "    print( inner_sorted_nodes[i] )\n",
        "  \n",
        "\n",
        "N = int(10); D = 2; p=0; seed=123; np.random.seed(seed)\n",
        "\n",
        "'''create a network with the node degrees drawn from a poissonian with even sum of degrees'''\n",
        "degrees = np.random.poisson(D,N) #for def of poissonian distr degrees are integers\n",
        "print(\"Degree sum:\", np.sum(degrees), \"with seed:\", seed)\n",
        "while(np.sum(degrees)%2!=0): #i.e. sum is odd --> change seed\n",
        "  seed=int(np.random.random_sample()*10)\n",
        "  np.random.seed(seed)\n",
        "  degrees = np.random.poisson(D,N)\n",
        "  print(\"Degree sum:\", np.sum(degrees), \"with seed:\", seed, )\n",
        "\n",
        "print(\"\\nNetwork Created but w/o standard neighbors wiring!\")\n",
        "G = nx.configuration_model(degrees)\n",
        "\n",
        "'''check graphical modification wrt the imposed degree'''\n",
        "repetita = [x for n, x in enumerate([y for y in G.edges()]) if x in [y for y in G.edges()][:n]]\n",
        "print(\"\\nAll edges:\", G.edges(), \"\\n\", \"Repetita:\", len(repetita), repetita, \"\\n\", nodes_adjac_degrees(G), \"\\n\")\n",
        "\n",
        "'''plot it togheter with the probability distribution'''\n",
        "fig, axs = plt.subplots(2,1, figsize=(5,5))\n",
        "nx.draw_circular(G, ax=axs[0], with_labels=True, font_size=12, node_size=5, width=.3)\n",
        "_ = axs[1].hist(degrees, bins=14, density=False, log=True)\n",
        "\n",
        "\n",
        "'''Nearest-Neighbors Rewiring (NNR) by ascending degree order'''\n",
        "l_nodes = [x for x in G.nodes()]\n",
        "edges = set() #avoid to put same link twice (+ unordered)\n",
        "nodes_degree = {}\n",
        "\n",
        "for node in G.nodes():\n",
        "  nodes_degree[node] = G.degree(node)\n",
        "sorted_nodes_degree = {k: v for k, v in sorted(nodes_degree.items(), key=lambda item: item[1])}\n",
        "sorted_nodes = [node for node in sorted_nodes_degree.keys()]\n",
        "\n",
        "\n",
        "'''def \"replace\" existing edges, since built-in method is \"adding\" '''\n",
        "def replace_edges_from(G,list_edges=[]):\n",
        "    ebunch = [x for x in G.edges()]\n",
        "    G.remove_edges_from(ebunch)\n",
        "    if list_edges!=[]: return G.add_edges_from(list_edges)\n",
        "    return G\n",
        "\n",
        "replace_edges_from(G)\n",
        "print(\"degree sum\", np.sum([G.degree(i) for i in l_nodes]) )"
      ],
      "execution_count": 155,
      "outputs": [
        {
          "output_type": "stream",
          "text": [
            "Degree sum: 21 with seed: 123\n",
            "Degree sum: 18 with seed: 4\n",
            "\n",
            "Network Created but w/o standard neighbors wiring!\n",
            "Sum_i k_i:  18  and <k>:  1.8\n",
            "\n",
            "(5, AdjacencyView({}), 0)\n",
            "(8, AdjacencyView({}), 0)\n",
            "(1, AdjacencyView({7: {0: {}}}), 1)\n",
            "(2, AdjacencyView({0: {0: {}}}), 1)\n",
            "(6, AdjacencyView({3: {0: {}}}), 1)\n",
            "(9, AdjacencyView({4: {0: {}}}), 1)\n",
            "(3, AdjacencyView({7: {0: {}}, 6: {0: {}}}), 2)\n",
            "(4, AdjacencyView({9: {0: {}}, 0: {0: {}}}), 2)\n",
            "(0, AdjacencyView({7: {0: {}, 1: {}, 2: {}}, 4: {0: {}}, 2: {0: {}}}), 5)\n",
            "(7, AdjacencyView({0: {0: {}, 1: {}, 2: {}}, 3: {0: {}}, 1: {0: {}}}), 5)\n",
            "\n",
            "All edges: [(0, 7), (0, 7), (0, 7), (0, 4), (0, 2), (1, 7), (3, 7), (3, 6), (4, 9)] \n",
            " Repetita: 2 [(0, 7), (0, 7)] \n",
            " None \n",
            "\n",
            "degree sum 0\n"
          ],
          "name": "stdout"
        },
        {
          "output_type": "display_data",
          "data": {
            "image/png": "[encoded data removed]",
            "text/plain": [
              "<Figure size 360x360 with 2 Axes>"
            ]
          },
          "metadata": {
            "tags": []
          }
        }
      ]
    },
    {
      "cell_type": "markdown",
      "metadata": {
        "id": "3g2BMdvcf4HB"
      },
      "source": [
        "Sort nodes by ascending degree, connect to neighbors and cancel that node from the list of nodes to prevent future rewiring. Repeat this since \"error rises\"\n",
        "\n",
        "TO DO:\n",
        "* remove double edges"
      ]
    },
    {
      "cell_type": "markdown",
      "metadata": {
        "id": "ecw4uGvV1Tqs"
      },
      "source": [
        "### Good cell for N = int(7) Not for N = int(70)"
      ]
    },
    {
      "cell_type": "code",
      "metadata": {
        "colab": {
          "base_uri": "https://localhost:8080/",
          "height": 532
        },
        "id": "JzThtG72d33N",
        "outputId": "43907853-1fd1-4d04-f669-a56b227f3c72"
      },
      "source": [
        "### GOOD STARTING CELL FOR N = int(7). No good for N = int(70)\n",
        "\n",
        "print(sorted_nodes, sorted_nodes_degree.values())\n",
        "\n",
        "print(\"\\nStart of the rewiring:\")\n",
        "for node in sorted_nodes:\n",
        "  print(node, degrees[node], l_nodes)\n",
        "\n",
        "  if degrees[node] > 0:\n",
        "    '''create edges rewiring from ascending degree'''\n",
        "    for j in range(1,degrees[node]//2+1): #neighbors attachment and no self-loops \"1\"\n",
        "        #print(\"entered for j:\",j)\n",
        "        idx = l_nodes.index(node)\n",
        "        #print(\"idx:\", idx)\n",
        "        a_attached = l_nodes[(idx+j)%N] #anticlockwise-linked node\n",
        "        c_attached = l_nodes[idx-j]\n",
        "        print(node,a_attached); print(node,c_attached);\n",
        "        if node != a_attached: edges.add((node,a_attached)); degrees[a_attached]-=1; \\\n",
        "        #print(\"deg[%s] = %s\" % (a_attached, degrees[a_attached]))\n",
        "\n",
        "        if node != c_attached: edges.add((node,c_attached)); degrees[c_attached]-=1; \\\n",
        "        #print(\"deg[%s] = %s\"%(c_attached,degrees[c_attached]))\n",
        "    \n",
        "    '''degrees[i] is odd, then, +1 anticlock-wise'''\n",
        "    if degrees[node]%2 != 0: aa_attached = l_nodes[(idx-degrees[node]//2+1)%N]; \\\n",
        "                            edges.add((node, aa_attached)); degrees[aa_attached]-=1; \\\n",
        "                            print(node, aa_attached); #print(\"deg[%s] = %s\"%(aa_attached,degrees[aa_attached]))\n",
        "    l_nodes.remove(node)\n",
        "\n",
        "  if len(l_nodes)==1: break"
      ],
      "execution_count": 156,
      "outputs": [
        {
          "output_type": "stream",
          "text": [
            "[5, 8, 1, 2, 6, 9, 3, 4, 0, 7] dict_values([0, 0, 1, 1, 1, 1, 2, 2, 5, 5])\n",
            "\n",
            "Start of the rewiring:\n",
            "5 0 [0, 1, 2, 3, 4, 5, 6, 7, 8, 9]\n",
            "8 0 [0, 1, 2, 3, 4, 5, 6, 7, 8, 9]\n",
            "1 1 [0, 1, 2, 3, 4, 5, 6, 7, 8, 9]\n",
            "1 2\n",
            "2 0 [0, 3, 4, 5, 6, 7, 8, 9]\n",
            "6 1 [0, 3, 4, 5, 6, 7, 8, 9]\n",
            "6 4\n",
            "9 1 [0, 3, 4, 5, 7, 8, 9]\n",
            "9 4\n",
            "3 2 [0, 3, 5, 7, 8]\n",
            "3 5\n",
            "3 0\n"
          ],
          "name": "stdout"
        },
        {
          "output_type": "error",
          "ename": "ValueError",
          "evalue": "ignored",
          "traceback": [
            "\u001b[0;31m---------------------------------------------------------------------------\u001b[0m",
            "\u001b[0;31mValueError\u001b[0m                                Traceback (most recent call last)",
            "\u001b[0;32m<ipython-input-156-b80f34c761e8>\u001b[0m in \u001b[0;36m<module>\u001b[0;34m()\u001b[0m\n\u001b[1;32m     24\u001b[0m     \u001b[0;34m'''degrees[i] is odd, then, +1 anticlock-wise'''\u001b[0m\u001b[0;34m\u001b[0m\u001b[0;34m\u001b[0m\u001b[0m\n\u001b[1;32m     25\u001b[0m     \u001b[0;32mif\u001b[0m \u001b[0mdegrees\u001b[0m\u001b[0;34m[\u001b[0m\u001b[0mnode\u001b[0m\u001b[0;34m]\u001b[0m\u001b[0;34m%\u001b[0m\u001b[0;36m2\u001b[0m \u001b[0;34m!=\u001b[0m \u001b[0;36m0\u001b[0m\u001b[0;34m:\u001b[0m \u001b[0maa_attached\u001b[0m \u001b[0;34m=\u001b[0m \u001b[0ml_nodes\u001b[0m\u001b[0;34m[\u001b[0m\u001b[0;34m(\u001b[0m\u001b[0midx\u001b[0m\u001b[0;34m-\u001b[0m\u001b[0mdegrees\u001b[0m\u001b[0;34m[\u001b[0m\u001b[0mnode\u001b[0m\u001b[0;34m]\u001b[0m\u001b[0;34m//\u001b[0m\u001b[0;36m2\u001b[0m\u001b[0;34m+\u001b[0m\u001b[0;36m1\u001b[0m\u001b[0;34m)\u001b[0m\u001b[0;34m%\u001b[0m\u001b[0mN\u001b[0m\u001b[0;34m]\u001b[0m\u001b[0;34m;\u001b[0m                             \u001b[0medges\u001b[0m\u001b[0;34m.\u001b[0m\u001b[0madd\u001b[0m\u001b[0;34m(\u001b[0m\u001b[0;34m(\u001b[0m\u001b[0mnode\u001b[0m\u001b[0;34m,\u001b[0m \u001b[0maa_attached\u001b[0m\u001b[0;34m)\u001b[0m\u001b[0;34m)\u001b[0m\u001b[0;34m;\u001b[0m \u001b[0mdegrees\u001b[0m\u001b[0;34m[\u001b[0m\u001b[0maa_attached\u001b[0m\u001b[0;34m]\u001b[0m\u001b[0;34m-=\u001b[0m\u001b[0;36m1\u001b[0m\u001b[0;34m;\u001b[0m                             \u001b[0mprint\u001b[0m\u001b[0;34m(\u001b[0m\u001b[0mnode\u001b[0m\u001b[0;34m,\u001b[0m \u001b[0maa_attached\u001b[0m\u001b[0;34m)\u001b[0m\u001b[0;34m;\u001b[0m \u001b[0;31m#print(\"deg[%s] = %s\"%(aa_attached,degrees[aa_attached]))\u001b[0m\u001b[0;34m\u001b[0m\u001b[0;34m\u001b[0m\u001b[0m\n\u001b[0;32m---> 26\u001b[0;31m     \u001b[0;32mif\u001b[0m \u001b[0mdegrees\u001b[0m\u001b[0;34m[\u001b[0m\u001b[0maa_attached\u001b[0m\u001b[0;34m]\u001b[0m \u001b[0;34m==\u001b[0m \u001b[0;36m0\u001b[0m\u001b[0;34m:\u001b[0m \u001b[0ml_nodes\u001b[0m\u001b[0;34m.\u001b[0m\u001b[0mremove\u001b[0m\u001b[0;34m(\u001b[0m\u001b[0maa_attached\u001b[0m\u001b[0;34m)\u001b[0m\u001b[0;34m\u001b[0m\u001b[0;34m\u001b[0m\u001b[0m\n\u001b[0m\u001b[1;32m     27\u001b[0m \u001b[0;34m\u001b[0m\u001b[0m\n\u001b[1;32m     28\u001b[0m     \u001b[0ml_nodes\u001b[0m\u001b[0;34m.\u001b[0m\u001b[0mremove\u001b[0m\u001b[0;34m(\u001b[0m\u001b[0mnode\u001b[0m\u001b[0;34m)\u001b[0m\u001b[0;34m\u001b[0m\u001b[0;34m\u001b[0m\u001b[0m\n",
            "\u001b[0;31mValueError\u001b[0m: list.remove(x): x not in list"
          ]
        }
      ]
    },
    {
      "cell_type": "markdown",
      "metadata": {
        "id": "l5L9uDAq1QmP"
      },
      "source": [
        "### COPING WITH THE FACT THAT A NODE MAY BE EXAUSTED DUE TO THE PREVIOUS NODE WIRING. So, remove that before it's its turn to rewire to stop an attachment that produces a negative degree"
      ]
    },
    {
      "cell_type": "code",
      "metadata": {
        "id": "KF4CRNt80caZ"
      },
      "source": [
        "print(sorted_nodes, sorted_nodes_degree.values())\n",
        "\n",
        "print(\"\\nStart of the rewiring:\")\n",
        "for node in sorted_nodes:\n",
        "  print(node, degrees[node], l_nodes)\n",
        "\n",
        "  if degrees[node] > 0:\n",
        "    '''create edges rewiring from ascending degree'''\n",
        "    for j in range(1,degrees[node]//2+1): #neighbors attachment and no self-loops \"1\"\n",
        "        #print(\"entered for j:\",j)\n",
        "        idx = l_nodes.index(node)\n",
        "        #print(\"idx:\", idx)\n",
        "        a_attached = l_nodes[(idx+j)%N] #anticlockwise-linked node\n",
        "        c_attached = l_nodes[idx-j]\n",
        "        aa_attached = l_nodes[(idx-degrees[node]//2+1)%N]\n",
        "        print(node,a_attached); print(node,c_attached);\n",
        "        if node != a_attached: edges.add((node,a_attached)); degrees[a_attached]-=1; \\\n",
        "        #print(\"deg[%s] = %s\" % (a_attached, degrees[a_attached]))\n",
        "\n",
        "        if node != c_attached: edges.add((node,c_attached)); degrees[c_attached]-=1; \\\n",
        "        #print(\"deg[%s] = %s\"%(c_attached,degrees[c_attached]))\n",
        "\n",
        "        '''remove node whenever its degree is = 0:'''\n",
        "        if degrees[a_attached] == 0: l_nodes.remove(a_attached)\n",
        "        if degrees[c_attached] == 0: l_nodes.remove(c_attached)\n",
        "        \n",
        "    '''degrees[i] is odd, then, +1 anticlock-wise'''\n",
        "    if degrees[node] %2 != 0 and degrees[aa_attached] != 0: edges.add((node, aa_attached)); degrees[aa_attached]-=1; \\\n",
        "                            print(node, aa_attached); #print(\"deg[%s] = %s\"%(aa_attached,degrees[aa_attached]))\n",
        "    if degrees[aa_attached] == 0 : l_nodes.remove(aa_attached)\n",
        "\n",
        "    l_nodes.remove(node)\n",
        "\n",
        "  if len(l_nodes)==1: break"
      ],
      "execution_count": null,
      "outputs": []
    },
    {
      "cell_type": "code",
      "metadata": {
        "id": "xhHy5LKIIj1m"
      },
      "source": [
        "replace_edges_from(G, edges)\n",
        "G.remove_edges_from(nx.selfloop_edges(G))\n",
        "\n",
        "'''check the net_edges and see that degrees are not respected due to finite size effect'''\n",
        "print(edges, \"\\n\", G.edges())\n",
        "nodes_adjac_degrees(G)\n",
        "\n",
        "'''plot it togheter with the probability distribution'''\n",
        "fig, axs = plt.subplots(2,1, figsize=(5,5))\n",
        "nx.draw_circular(G, ax=axs[0], with_labels=True, font_size=12, node_size=5, width=.3)\n",
        "_ = axs[1].hist([j for i,j in G.degree()], bins=14, density=False, log=True)"
      ],
      "execution_count": null,
      "outputs": []
    },
    {
      "cell_type": "markdown",
      "metadata": {
        "id": "g-pK3ovqqwvo"
      },
      "source": [
        "## New Code"
      ]
    },
    {
      "cell_type": "code",
      "metadata": {
        "colab": {
          "base_uri": "https://localhost:8080/",
          "height": 320
        },
        "id": "srpf4WaxmPwp",
        "outputId": "e3d883ff-33df-4a6e-8589-ba5d443ec82f"
      },
      "source": [
        "N = int(7); p=1\n",
        "edges=set()\n",
        "for i,j in product(range(N), repeat=2):\n",
        "      if i < j and random.random() <= p: # since i,j \"run freely\", we have 2p of chance of edging. So, the mean=n*2p\n",
        "        edges.add((i,j))\n",
        "replace_edges_from(G, edges)\n",
        "\n",
        "G.edges()\n",
        "\n",
        "'''plot it togheter with the probability distribution'''\n",
        "fig, axs = plt.subplots(2,1, figsize=(5,5))\n",
        "nx.draw_circular(G, ax=axs[0], with_labels=True, font_size=12, node_size=5, width=.3)\n",
        "_ = axs[1].hist(degrees, bins=14, density=False, log=True)"
      ],
      "execution_count": 107,
      "outputs": [
        {
          "output_type": "display_data",
          "data": {
            "image/png": "[encoded data removed]",
            "text/plain": [
              "<Figure size 360x360 with 2 Axes>"
            ]
          },
          "metadata": {
            "tags": []
          }
        }
      ]
    },
    {
      "cell_type": "markdown",
      "metadata": {
        "id": "2Pt7Ti3sTMvE"
      },
      "source": [
        "## Old cell"
      ]
    },
    {
      "cell_type": "code",
      "metadata": {
        "id": "0RJMlDV2cF1Z"
      },
      "source": [
        "#### OLD ONE\n",
        "\n",
        "\n",
        "ebunch = [x for x in G.edges()]\n",
        "G.remove_edges_from(ebunch)\n",
        "l_nodes = [x for x in G.nodes()]\n",
        "\n",
        "edges = set() #avoid to put same link twice (+ unordered)\n",
        "print(nodes_adjac_degrees(G))\n",
        "\n",
        "for i in range(N):\n",
        "    for j in range(1,degrees[i]//2+1): #neighbors attachment and no self-loops \"1\"\n",
        "        if i != l_nodes[(i+j)%N]: edges.add((i,l_nodes[(i+j)%N]))\n",
        "        if i != l_nodes[i-j]:  edges.add((i,l_nodes[i-j]))\n",
        "    \n",
        "    '''degrees[i] is odd, then, +1 anticlock-wise'''\n",
        "    if degrees[i]%2 != 0: edges.add((i,l_nodes[i-(degrees[i]//2)-1]))\n",
        "    print(G.degree)\n",
        "    #if len(edges)!=np.sum(degrees)/2: break\n",
        "\n",
        "\n",
        "#for i,j in product(range(N), repeat=2):\n",
        "#  if i != j and random.random() <= p: # with this meth we have 2p of chance of edging. So, the mean=n*2p\n",
        "#    edges.add((i,j))\n",
        "\n",
        "G.add_edges_from(edges)\n",
        "repetita = [x for n, x in enumerate([y for y in G.edges()]) if x in [y for y in G.edges()][:n]]\n",
        "print(G.edges(), \"\\n\", len(repetita), repetita, \"\\n\", nodes_adjac_degrees(G))\n",
        "\n",
        "'''plot it togheter with the probability distribution'''\n",
        "fig, axs = plt.subplots(2,1, figsize=(5,5))\n",
        "nx.draw_circular(G, ax=axs[0], with_labels=True, font_size=12, node_size=5, width=.3)\n",
        "_ = axs[1].hist(degrees, 14, density=False, log=True)"
      ],
      "execution_count": null,
      "outputs": []
    },
    {
      "cell_type": "markdown",
      "metadata": {
        "id": "THiUmrVxka5q"
      },
      "source": [
        "1) `for j in range(1,degrees[i]//2+1): #neighbors attachment and no self-loops\n",
        "      if i != l_nodes[(i+j)%N]: edges.add((i,l_nodes[(i+j)%N]))\n",
        "      if i != l_nodes[i-j]:  edges.add((i,l_nodes[i-j]))`\n",
        "\n",
        "with this part i'm rewiring twice the neighbors. It's possible to think to a solution where if already an edge exists may be skipped;\n",
        "\n",
        "2) Consider the Newman algorithm, where new edge are added when the rewiring is at work. In WS-model the edge are actively changed and not added;\n",
        "\n",
        "3)TODO: create a net s.t. that all links will be present twice, i.e. (0,1) and (1,0)"
      ]
    },
    {
      "cell_type": "markdown",
      "metadata": {
        "id": "ItuxX6R0irHI"
      },
      "source": [
        "## Create a squared lattice and add nodes near it"
      ]
    },
    {
      "cell_type": "code",
      "metadata": {
        "id": "dRNrorNMiEfE"
      },
      "source": [
        "fig, axs = plt.subplots(1,2, figsize=(20,10))\n",
        "\n",
        "\n",
        "def rgraph(N,p):\n",
        "    G = nx.Graph()\n",
        "\n",
        "    'Center the initial squared lattice'\n",
        "    pos = {0:(0,0),1:(1,0),2:(1,1),3:(0,1)}#dict with two of the positions set\n",
        "    for i in range(4,N): pos[i]=(random.random()+(-1)**random.randint(0,1), random.random()+(-1)**random.randint(0,1) )\n",
        "\n",
        "    'Add nodes to graph and \"double\"-edging'\n",
        "    G.add_nodes_from(pos.keys())\n",
        "    for n, coord in pos.items():\n",
        "      G.nodes[n]['pos'] = coord\n",
        "    edges = set() #avoid to put same link twice (unordered). (0,1) and (1,0) are allowed\n",
        "    for i,j in product(range(4), repeat=2):\n",
        "      if j==(i+1)%4 or j==(i-1)%4: edges.add((i,j))\n",
        "    for i,j in product(range(N), repeat=2):\n",
        "      if i != j and random.random() <= p: # since i,j \"run freely\", we have 2p of chance of edging. So, the mean=n*2p\n",
        "        edges.add((i,j))\n",
        "\n",
        "    'Remove the cross edges within the square'\n",
        "    disclist=[(0,2),(2,0),(1,3),(3,1)]\n",
        "    for x in disclist: edges.discard(x)\n",
        "    G.add_edges_from(edges)\n",
        "    print(G.edges())\n",
        "\n",
        "    return G,pos\n",
        "\n",
        "G,pos=rgraph(8,0.1)\n",
        "\n",
        "nx.draw(G, ax=axs[0], pos=pos, with_labels=True, font_size=12, node_size=5, width=.3)\n",
        "\n",
        "\n",
        "def plot_degree_dist(G):\n",
        "    degrees = [G.degree(n) for n in G.nodes()]\n",
        "    axs[1].hist(degrees, bins=\"auto\", log=False, density=0)\n",
        "plot_degree_dist(G)"
      ],
      "execution_count": null,
      "outputs": []
    },
    {
      "cell_type": "markdown",
      "metadata": {
        "id": "vFEyF6ZTijen"
      },
      "source": [
        "## Make the disease spread"
      ]
    },
    {
      "cell_type": "code",
      "metadata": {
        "id": "RdseIkrOeUj-"
      },
      "source": [
        "def sir(G,beta,mu):\n",
        "    'Number of nodes in the graph'\n",
        "    N=G.number_of_nodes()\n",
        "    \n",
        "    'Label the individual wrt to the # of the node'\n",
        "    node_labels = G.nodes()\n",
        "    \n",
        "    'Currently infected individuals and the future infected and recovered' \n",
        "    inf_list = [] \n",
        "    prevalence = []\n",
        "    recovered = []\n",
        "\n",
        "    'Initial Conditions'\n",
        "    current_state = ['S' for i in node_labels] \n",
        "    future_state = ['S' for i in node_labels]\n",
        "    \n",
        "    'Selects the seed of the disease'\n",
        "    seed = random.choice(range(N)) \n",
        "    current_state[seed] = 'I'\n",
        "    future_state[seed] = 'I'\n",
        "    inf_list.append(seed)    \n",
        "   \n",
        "\n",
        "    while(len(inf_list)>0):        \n",
        "        \n",
        "        'Infection Phase: each infected tries to infect all of the neighbors'\n",
        "        for i in inf_list:\n",
        "            'Select the neighbors of the infected node'\n",
        "            tests = G.neighbors(i) #only != wrt to the SIS: contact are taken from G.neighbors            \n",
        "            for j in tests:\n",
        "                'If the contact is susceptible tries to infect it'\n",
        "                if current_state[j] == 'S' and future_state[j] == 'S':\n",
        "                    if random.random() < beta:\n",
        "                        future_state[j] = 'I'\n",
        "                    else:\n",
        "                        future_state[j] = 'S'\n",
        "                        \n",
        "        'Recovery Phase: each infected in the current state recovers with probability mu'        \n",
        "        for i in inf_list:\n",
        "            if random.random() < mu:\n",
        "                future_state[i] = 'R'\n",
        "            else:\n",
        "                future_state[i] = 'I'\n",
        "        \n",
        "        'Time update: once infections and recovery ended, we move to the next time-step'\n",
        "        'The future state becomes the current one'\n",
        "        current_state = future_state.copy() #w/o .copy() it's a mofiable-\"view\"\n",
        "       \n",
        "        'Updates inf_list with the currently fraction of inf/rec' \n",
        "        inf_list = [i for i, x in enumerate(current_state) if x == 'I']\n",
        "        rec_list = [i for i, x in enumerate(current_state) if x == 'R']\n",
        "\n",
        "        \n",
        "        'Saves the fraction of infected and recovered in the current time-step'\n",
        "        prevalence.append(len(inf_list)/float(N))\n",
        "        recovered.append(len(rec_list)/float(N))\n",
        "\n",
        "        \n",
        "    return prevalence, recovered"
      ],
      "execution_count": null,
      "outputs": []
    },
    {
      "cell_type": "code",
      "metadata": {
        "id": "Ztv6OM7Ni1MA"
      },
      "source": [
        "plt.figure(figsize=(10,5))\n",
        "\n",
        "beta = 0.04 # infection probability\n",
        "mu = 0.05 # recovery probability\n",
        "\n",
        "# simulate SIR dynamics and obtain prevalence\n",
        "prevalence, recovered = sir(G, beta, mu)\n",
        "\n",
        "plt.plot(prevalence, label=\"Infected/N\")\n",
        "plt.plot(recovered, label=\"Recovered/N\")\n",
        "\n",
        "plt.xlabel('Time', fontsize = 16)\n",
        "plt.ylabel('Indivs/N', fontsize = 16)\n",
        "plt.legend(loc=\"best\");"
      ],
      "execution_count": null,
      "outputs": []
    },
    {
      "cell_type": "code",
      "metadata": {
        "id": "hlhGpwXvPHHo"
      },
      "source": [
        "#todo:\n",
        "L=len(prevalence)\n",
        "\n",
        "def mov_avg(a):\n",
        "    p=[a[0]]\n",
        "    for i in range(1,L): \n",
        "      if i <=7:  tmp=a[i-1]+(a[i]-a[i-1])/i; p.append(tmp); print(p[i],i)\n",
        "      elif i>7: tmp=1/7*(a[i]+7*p[i-1]-a[i-1]); p.append(tmp)\n",
        "    return p\n",
        "\n",
        "plt.plot(mov_avg(prevalence), label=\"Mov_Avg_Inf/N\")"
      ],
      "execution_count": null,
      "outputs": []
    }
  ]
}